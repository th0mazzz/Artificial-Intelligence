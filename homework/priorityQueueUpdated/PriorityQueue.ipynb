{
  "nbformat": 4,
  "nbformat_minor": 0,
  "metadata": {
    "colab": {
      "name": "PriorityQueue",
      "version": "0.3.2",
      "provenance": [],
      "collapsed_sections": []
    },
    "kernelspec": {
      "name": "python3",
      "display_name": "Python 3"
    }
  },
  "cells": [
    {
      "metadata": {
        "id": "fTnLUBeltZRg",
        "colab_type": "text"
      },
      "cell_type": "markdown",
      "source": [
        "The Pqueue class\n"
      ]
    },
    {
      "metadata": {
        "id": "h6o3ftzttLfg",
        "colab_type": "code",
        "colab": {}
      },
      "cell_type": "code",
      "source": [
        "#!/usr/bin/python3\n",
        "\n",
        "class Pqueue:\n",
        "    def OrdinaryComparison(a,b): #ordinary compare_to fxn\n",
        "        if a < b: return -1\n",
        "        if a == b: return 0\n",
        "        return 1\n",
        "    \n",
        "    def __init__(self, comparator = OrdinaryComparison): #initializes priority queue / heap\n",
        "        self.info = []\n",
        "        self.size = 0\n",
        "        self.compare_to = comparator\n",
        "                \n",
        "    def __str__(self): #the to-string method\n",
        "        return str(self.info)\n",
        "\n",
        "    \n",
        "    def push(self, value): #pushs value into heap; sorts it so that parent >= child\n",
        "        self.info.append(value)\n",
        "        self.size = self.size + 1\n",
        "\n",
        "        current = self.size - 1\n",
        "        parent = int((current - 1) / 2)\n",
        "\n",
        "        while(self.compare_to(self.info[current], self.info[parent]) == -1 and parent >= 0):\n",
        "            self.info[current], self.info[parent] = (self.info[parent], self.info[current])\n",
        "\n",
        "            current = parent\n",
        "            parent = int((parent - 1) / 2)\n",
        "\n",
        "    def pop(self): #pops off the top element and returns it; if empty, returns None\n",
        "        if self.size == 0:\n",
        "            return None\n",
        "        \n",
        "        oldroot = self.info[0]\n",
        "\n",
        "        self.info[0] = self.info[self.size - 1]\n",
        "        del self.info[-1]\n",
        "        self.size = self.size - 1\n",
        "\n",
        "        current = 0\n",
        "        leftchild = 2 * current + 1\n",
        "        rightchild = 2 * current + 2\n",
        "\n",
        "        #print('leftchild: ' + str(leftchild))\n",
        "        #print('rightchild: ' + str(rightchild))\n",
        "\n",
        "        if self.size == 2 and self.compare_to(self.info[current], self.info[leftchild]) == 1:\n",
        "            self.info[current], self.info[leftchild] = (self.info[leftchild], self.info[current])\n",
        "        \n",
        "        while(leftchild < self.size and rightchild < self.size and\n",
        "              (self.compare_to(self.info[current], self.info[leftchild]) == 1 or self.compare_to(self.info[current], self.info[rightchild]) == 1)):\n",
        "            #print('leftchild: ' + str(leftchild))\n",
        "            #print('rightchild: ' + str(rightchild))\n",
        "            if self.compare_to(self.info[leftchild], self.info[rightchild]) == -1:\n",
        "                self.info[current], self.info[leftchild] = (self.info[leftchild], self.info[current])\n",
        "                current = leftchild\n",
        "                leftchild = current * 2 + 1\n",
        "                rightchild = current * 2 + 2\n",
        "            else:\n",
        "                self.info[current], self.info[rightchild] = (self.info[rightchild], self.info[current])\n",
        "                current = rightchild\n",
        "                leftchild = current * 2 + 1\n",
        "                rightchild = current * 2 + 2\n",
        "                \n",
        "        return oldroot\n",
        "                \n",
        "    def peek(self): #returns but does not pop top element; if empty, returns None\n",
        "        if self.size > 0:\n",
        "            return self.info[0]\n",
        "        return None\n",
        "\n",
        "    def size(self): #returns size of the current priority queue / heap\n",
        "        return self.size\n",
        "\n",
        "    def tolist(self):\n",
        "        returned_list = []\n",
        "        size = 0\n",
        "        while size < len(self.info):\n",
        "            returned_list.append(self.pop())\n",
        "        return returned_list"
      ],
      "execution_count": 0,
      "outputs": []
    },
    {
      "metadata": {
        "id": "HpGUAon_td0T",
        "colab_type": "text"
      },
      "cell_type": "markdown",
      "source": [
        "Testing"
      ]
    },
    {
      "metadata": {
        "id": "nwBmigGXtUIP",
        "colab_type": "code",
        "colab": {
          "base_uri": "https://localhost:8080/",
          "height": 353
        },
        "outputId": "4a249bbb-6d9d-4aba-870d-a0fb593be8d0"
      },
      "cell_type": "code",
      "source": [
        "a = Pqueue()\n",
        "\n",
        "print('Pushing')\n",
        "a.push(10)\n",
        "a.push(8)\n",
        "a.push(12)\n",
        "a.push(100)\n",
        "a.push(22)\n",
        "a.push(2)\n",
        "\n",
        "print(a)\n",
        "print('\\nPopping')\n",
        "\n",
        "a.pop()\n",
        "a.pop()\n",
        "a.pop()\n",
        "\n",
        "print(a)\n",
        "print('\\nPushing popped values back')\n",
        "\n",
        "a.push(2)\n",
        "a.push(8)\n",
        "a.push(10)\n",
        "\n",
        "print(a)\n",
        "print('\\nWhat tolist() returns')\n",
        "\n",
        "print(a.tolist())\n",
        "print('\\nWhat list now has')\n",
        "\n",
        "print(a)\n",
        "print('\\n')\n",
        "\n",
        "print('---End Results---')\n",
        "print(a)\n",
        "print('Size: ' + str(a.size))\n",
        "print('-----------------')"
      ],
      "execution_count": 24,
      "outputs": [
        {
          "output_type": "stream",
          "text": [
            "Pushing\n",
            "[2, 10, 8, 100, 22, 12]\n",
            "\n",
            "Popping\n",
            "[12, 22, 100]\n",
            "\n",
            "Pushing popped values back\n",
            "[2, 8, 10, 22, 12, 100]\n",
            "\n",
            "What tolist() returns\n",
            "[2, 8, 10, 12, 22, 100]\n",
            "\n",
            "What list now has\n",
            "[]\n",
            "\n",
            "\n",
            "---End Results---\n",
            "[]\n",
            "Size: 0\n",
            "-----------------\n"
          ],
          "name": "stdout"
        }
      ]
    }
  ]
}